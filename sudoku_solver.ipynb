{
 "cells": [
  {
   "cell_type": "code",
   "execution_count": 1,
   "id": "e6186afa",
   "metadata": {},
   "outputs": [],
   "source": [
    "import time\n",
    "import numpy as np"
   ]
  },
  {
   "cell_type": "code",
   "execution_count": 2,
   "id": "65f8e6f9",
   "metadata": {},
   "outputs": [],
   "source": [
    "def string_to_grid(sudoku_string, n=9):\n",
    "    \n",
    "    clean_string = sudoku_string.replace('.','-')\n",
    "    \n",
    "    rows = [[clean_string[i:i+n]] for i in range(0, len(clean_string), n)]\n",
    "    \n",
    "    return [[x for x in row[0]] for row in rows]"
   ]
  },
  {
   "cell_type": "code",
   "execution_count": 3,
   "id": "b87a3b1c",
   "metadata": {},
   "outputs": [],
   "source": [
    "def row_check(guess, row):\n",
    "    \n",
    "    return str(guess) not in sudoku[row]"
   ]
  },
  {
   "cell_type": "code",
   "execution_count": 4,
   "id": "1ece1f6e",
   "metadata": {},
   "outputs": [],
   "source": [
    "def col_check(guess, col):\n",
    "    \n",
    "    col_vals = [sudoku[i][col] for i in range(9)]\n",
    "    \n",
    "    return str(guess) not in col_vals"
   ]
  },
  {
   "cell_type": "code",
   "execution_count": 5,
   "id": "cfbdc4e1",
   "metadata": {},
   "outputs": [],
   "source": [
    "def box_check(row, col, guess):\n",
    "    \n",
    "    top_left = [row - (row % 3), col - (col % 3)]\n",
    "    \n",
    "    box_vals = [sudoku[i][j] for i in range(top_left[0], top_left[0]+3) for j in range(top_left[1], top_left[1]+3)]\n",
    "    \n",
    "    return str(guess) not in box_vals"
   ]
  },
  {
   "cell_type": "code",
   "execution_count": 6,
   "id": "390d2651",
   "metadata": {},
   "outputs": [],
   "source": [
    "def valid_guess(row, col, guess):\n",
    "    \n",
    "    return row_check(guess, row) & col_check(guess, col) & box_check(row, col, guess)"
   ]
  },
  {
   "cell_type": "code",
   "execution_count": 7,
   "id": "9ef3faa1",
   "metadata": {},
   "outputs": [],
   "source": [
    "# My original attempt\n",
    "\n",
    "def Solve(sudoku):\n",
    "    \n",
    "    for x in range(9):\n",
    "        \n",
    "        for y in range(9):\n",
    "            \n",
    "            if sudoku[x][y] == '-':\n",
    "                \n",
    "                for guess in range(1,10):\n",
    "                    \n",
    "                    if valid_guess(x, y, guess):\n",
    "                        \n",
    "                        sudoku[x][y] = str(guess)\n",
    "                        \n",
    "                        Solve(sudoku)\n",
    "                        \n",
    "                        sudoku[x][y] = '-'\n",
    "                \n",
    "                return\n",
    "            \n",
    "    print(np.matrix(sudoku))"
   ]
  },
  {
   "cell_type": "code",
   "execution_count": 8,
   "id": "092e027e",
   "metadata": {},
   "outputs": [],
   "source": [
    "sudoku_string = '.1..2.3....2..3.4..5......6..47...5....1....8.2..98...7....4.9....6..1.4..6......'\n",
    "\n",
    "sudoku = string_to_grid(sudoku_string)"
   ]
  },
  {
   "cell_type": "code",
   "execution_count": 9,
   "id": "6cbee4ed",
   "metadata": {},
   "outputs": [
    {
     "name": "stdout",
     "output_type": "stream",
     "text": [
      "[['4' '1' '7' '5' '2' '6' '3' '8' '9']\n",
      " ['9' '6' '2' '8' '7' '3' '5' '4' '1']\n",
      " ['8' '5' '3' '4' '1' '9' '7' '2' '6']\n",
      " ['1' '8' '4' '7' '6' '2' '9' '5' '3']\n",
      " ['3' '7' '9' '1' '4' '5' '2' '6' '8']\n",
      " ['6' '2' '5' '3' '9' '8' '4' '1' '7']\n",
      " ['7' '3' '1' '2' '8' '4' '6' '9' '5']\n",
      " ['2' '9' '8' '6' '5' '7' '1' '3' '4']\n",
      " ['5' '4' '6' '9' '3' '1' '8' '7' '2']]\n"
     ]
    }
   ],
   "source": [
    "Solve(sudoku)"
   ]
  }
 ],
 "metadata": {
  "kernelspec": {
   "display_name": "Python 3",
   "language": "python",
   "name": "python3"
  },
  "language_info": {
   "codemirror_mode": {
    "name": "ipython",
    "version": 3
   },
   "file_extension": ".py",
   "mimetype": "text/x-python",
   "name": "python",
   "nbconvert_exporter": "python",
   "pygments_lexer": "ipython3",
   "version": "3.8.8"
  }
 },
 "nbformat": 4,
 "nbformat_minor": 5
}
